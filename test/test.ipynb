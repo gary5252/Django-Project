{
 "cells": [
  {
   "cell_type": "code",
   "execution_count": 20,
   "metadata": {},
   "outputs": [],
   "source": [
    "import sqlite3\n",
    "from datetime import datetime\n",
    "import os"
   ]
  },
  {
   "cell_type": "code",
   "execution_count": 21,
   "metadata": {},
   "outputs": [
    {
     "data": {
      "text/plain": [
       "True"
      ]
     },
     "execution_count": 21,
     "metadata": {},
     "output_type": "execute_result"
    }
   ],
   "source": [
    "os.path.exists('../db.sqlite3')"
   ]
  },
  {
   "cell_type": "code",
   "execution_count": 3,
   "metadata": {},
   "outputs": [
    {
     "data": {
      "text/plain": [
       "<sqlite3.Connection at 0x1706d7c8990>"
      ]
     },
     "execution_count": 3,
     "metadata": {},
     "output_type": "execute_result"
    }
   ],
   "source": [
    "conn=sqlite3.connect('../db.sqlite3')\n",
    "conn"
   ]
  },
  {
   "cell_type": "code",
   "execution_count": 4,
   "metadata": {},
   "outputs": [
    {
     "data": {
      "text/plain": [
       "<sqlite3.Cursor at 0x1706d878340>"
      ]
     },
     "execution_count": 4,
     "metadata": {},
     "output_type": "execute_result"
    }
   ],
   "source": [
    "cursor=conn.cursor()\n",
    "cursor"
   ]
  },
  {
   "cell_type": "code",
   "execution_count": 5,
   "metadata": {},
   "outputs": [
    {
     "data": {
      "text/plain": [
       "[]"
      ]
     },
     "execution_count": 5,
     "metadata": {},
     "output_type": "execute_result"
    }
   ],
   "source": [
    "list(cursor.execute('select * from user_city'))"
   ]
  },
  {
   "cell_type": "code",
   "execution_count": 31,
   "metadata": {},
   "outputs": [],
   "source": [
    "conn.close()"
   ]
  },
  {
   "cell_type": "markdown",
   "metadata": {},
   "source": [
    "### 寫入城市"
   ]
  },
  {
   "cell_type": "code",
   "execution_count": 7,
   "metadata": {},
   "outputs": [],
   "source": [
    "citys=[(1, '基隆市'),\n",
    " (2, '台北市'),\n",
    " (3, '新北市'),\n",
    " (4, '桃園縣'),\n",
    " (5, '新竹市'),\n",
    " (6, '新竹縣'),\n",
    " (7, '苗栗縣'),\n",
    " (8, '台中市'),\n",
    " (9, '彰化縣'),\n",
    " (10, '南投縣'),\n",
    " (11, '雲林縣'),\n",
    " (12, '嘉義市'),\n",
    " (13, '嘉義縣'),\n",
    " (14, '台南市'),\n",
    " (15, '高雄市'),\n",
    " (16, '屏東縣'),\n",
    " (17, '台東縣'),\n",
    " (18, '花蓮縣'),\n",
    " (19, '宜蘭縣'),\n",
    " (20, '澎湖縣'),\n",
    " (21, '金門縣'),\n",
    " (22, '連江縣')]\n"
   ]
  },
  {
   "cell_type": "code",
   "execution_count": 22,
   "metadata": {},
   "outputs": [
    {
     "data": {
      "text/plain": [
       "(<sqlite3.Connection at 0x1706d7c8b70>, <sqlite3.Cursor at 0x1706e300f10>)"
      ]
     },
     "execution_count": 22,
     "metadata": {},
     "output_type": "execute_result"
    }
   ],
   "source": [
    "conn=sqlite3.connect('../db.sqlite3')\n",
    "cursor=conn.cursor()\n",
    "\n",
    "conn,cursor"
   ]
  },
  {
   "cell_type": "code",
   "execution_count": 9,
   "metadata": {},
   "outputs": [
    {
     "data": {
      "text/plain": [
       "'2022-01-29'"
      ]
     },
     "execution_count": 9,
     "metadata": {},
     "output_type": "execute_result"
    }
   ],
   "source": [
    "today=datetime.today().strftime('%Y-%m-%d')\n",
    "today"
   ]
  },
  {
   "cell_type": "code",
   "execution_count": 11,
   "metadata": {},
   "outputs": [],
   "source": [
    "try:\n",
    "    for city in citys:    \n",
    "        sqlstr=f'insert into user_city (id,name,createdon) values ({city[0]},\"{city[1]}\",\"{today}\")'\n",
    "        cursor.execute(sqlstr)  \n",
    "    conn.commit()\n",
    "except:\n",
    "    pass\n"
   ]
  },
  {
   "cell_type": "code",
   "execution_count": 12,
   "metadata": {},
   "outputs": [],
   "source": [
    "respondents=['公司行號', '工作室', '學生身分', '上班族兼職']"
   ]
  },
  {
   "cell_type": "code",
   "execution_count": 13,
   "metadata": {},
   "outputs": [
    {
     "name": "stdout",
     "output_type": "stream",
     "text": [
      "done!\n"
     ]
    }
   ],
   "source": [
    "try:\n",
    "    for respondent in respondents:    \n",
    "        sqlstr=f'insert into user_respondent (name,createdon) values (\"{respondent}\",\"{today}\")'\n",
    "        cursor.execute(sqlstr)  \n",
    "    conn.commit()\n",
    "    print('done!')\n",
    "except:\n",
    "    pass\n",
    "    "
   ]
  },
  {
   "cell_type": "code",
   "execution_count": 17,
   "metadata": {},
   "outputs": [],
   "source": [
    "categorys=['程式開發',\n",
    " '平面設計',\n",
    " '網頁設計',\n",
    " '翻譯寫作',\n",
    " '商攝娛樂',\n",
    " '影像製作',\n",
    " '空間設計',\n",
    " '生活服務',\n",
    " '活動企劃',\n",
    " '專業顧問',\n",
    " '資訊工程']"
   ]
  },
  {
   "cell_type": "code",
   "execution_count": 19,
   "metadata": {},
   "outputs": [
    {
     "name": "stdout",
     "output_type": "stream",
     "text": [
      "done!\n"
     ]
    }
   ],
   "source": [
    "try:\n",
    "    for category in categorys:    \n",
    "        sqlstr=f'insert into case_category (name,createdon) values (\"{category}\",\"{today}\")'\n",
    "        cursor.execute(sqlstr)  \n",
    "    conn.commit()\n",
    "    print('done!')\n",
    "except Exception as e:\n",
    "    print(e)"
   ]
  },
  {
   "cell_type": "code",
   "execution_count": 23,
   "metadata": {},
   "outputs": [],
   "source": [
    "states=['新進案','發案中','製作中','已結案']"
   ]
  },
  {
   "cell_type": "code",
   "execution_count": 24,
   "metadata": {},
   "outputs": [
    {
     "name": "stdout",
     "output_type": "stream",
     "text": [
      "done!\n"
     ]
    }
   ],
   "source": [
    "try:\n",
    "    for state in states:    \n",
    "        sqlstr=f'insert into case_state (name,createdon) values (\"{state}\",\"{today}\")'\n",
    "        cursor.execute(sqlstr)  \n",
    "    conn.commit()\n",
    "    print('done!')\n",
    "except Exception as e:\n",
    "    print(e)"
   ]
  },
  {
   "cell_type": "code",
   "execution_count": 25,
   "metadata": {},
   "outputs": [],
   "source": [
    "amounts=['3000','5000','10000~30000','50000','10萬','30萬','50萬~100萬','100萬以上','面議']"
   ]
  },
  {
   "cell_type": "code",
   "execution_count": 26,
   "metadata": {},
   "outputs": [
    {
     "name": "stdout",
     "output_type": "stream",
     "text": [
      "done!\n"
     ]
    }
   ],
   "source": [
    "try:\n",
    "    for amount in amounts:    \n",
    "        sqlstr=f'insert into case_amount (name,createdon) values (\"{amount}\",\"{today}\")'\n",
    "        cursor.execute(sqlstr)  \n",
    "    conn.commit()\n",
    "    print('done!')\n",
    "except Exception as e:\n",
    "    print(e)"
   ]
  },
  {
   "cell_type": "code",
   "execution_count": 27,
   "metadata": {},
   "outputs": [],
   "source": [
    "modes=['到場配合','遠端合作','面談']"
   ]
  },
  {
   "cell_type": "code",
   "execution_count": 28,
   "metadata": {},
   "outputs": [
    {
     "name": "stdout",
     "output_type": "stream",
     "text": [
      "done!\n"
     ]
    }
   ],
   "source": [
    "try:\n",
    "    for mode in modes:    \n",
    "        sqlstr=f'insert into case_mode (name,createdon) values (\"{mode}\",\"{today}\")'\n",
    "        cursor.execute(sqlstr)  \n",
    "    conn.commit()\n",
    "    print('done!')\n",
    "except Exception as e:\n",
    "    print(e)"
   ]
  },
  {
   "cell_type": "code",
   "execution_count": 29,
   "metadata": {},
   "outputs": [],
   "source": [
    "periods=['3天內','一個禮拜','二~四個禮拜','一個月內','三個月','半年','一年以上','面議']"
   ]
  },
  {
   "cell_type": "code",
   "execution_count": 30,
   "metadata": {},
   "outputs": [
    {
     "name": "stdout",
     "output_type": "stream",
     "text": [
      "done!\n"
     ]
    }
   ],
   "source": [
    "try:\n",
    "    for period in periods:    \n",
    "        sqlstr=f'insert into case_period (name,createdon) values (\"{period}\",\"{today}\")'\n",
    "        cursor.execute(sqlstr)  \n",
    "    conn.commit()\n",
    "    print('done!')\n",
    "except Exception as e:\n",
    "    print(e)"
   ]
  },
  {
   "cell_type": "code",
   "execution_count": 32,
   "metadata": {},
   "outputs": [
    {
     "data": {
      "text/plain": [
       "(<sqlite3.Connection at 0x1706d7c8e40>, <sqlite3.Cursor at 0x1706e300730>)"
      ]
     },
     "execution_count": 32,
     "metadata": {},
     "output_type": "execute_result"
    }
   ],
   "source": [
    "conn=sqlite3.connect('../db.sqlite3')\n",
    "cursor=conn.cursor()\n",
    "\n",
    "conn,cursor"
   ]
  },
  {
   "cell_type": "code",
   "execution_count": 33,
   "metadata": {},
   "outputs": [],
   "source": [
    "conn.close()"
   ]
  }
 ],
 "metadata": {
  "interpreter": {
   "hash": "b3ba2566441a7c06988d0923437866b63cedc61552a5af99d1f4fb67d367b25f"
  },
  "kernelspec": {
   "display_name": "Python 3.8.8 64-bit ('base': conda)",
   "language": "python",
   "name": "python3"
  },
  "language_info": {
   "codemirror_mode": {
    "name": "ipython",
    "version": 3
   },
   "file_extension": ".py",
   "mimetype": "text/x-python",
   "name": "python",
   "nbconvert_exporter": "python",
   "pygments_lexer": "ipython3",
   "version": "3.8.8"
  },
  "orig_nbformat": 4
 },
 "nbformat": 4,
 "nbformat_minor": 2
}
