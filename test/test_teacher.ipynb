{
 "cells": [
  {
   "cell_type": "code",
   "execution_count": 4,
   "metadata": {},
   "outputs": [],
   "source": [
    "import sqlite3\n",
    "from datetime import datetime\n",
    "import os"
   ]
  },
  {
   "cell_type": "code",
   "execution_count": 2,
   "metadata": {},
   "outputs": [
    {
     "data": {
      "text/plain": [
       "True"
      ]
     },
     "execution_count": 2,
     "metadata": {},
     "output_type": "execute_result"
    }
   ],
   "source": [
    "os.path.exists('../db.sqlite3')"
   ]
  },
  {
   "cell_type": "code",
   "execution_count": 3,
   "metadata": {},
   "outputs": [
    {
     "data": {
      "text/plain": [
       "<sqlite3.Connection at 0x17f27b66990>"
      ]
     },
     "execution_count": 3,
     "metadata": {},
     "output_type": "execute_result"
    }
   ],
   "source": [
    "conn=sqlite3.connect('../db.sqlite3')\n",
    "conn"
   ]
  },
  {
   "cell_type": "code",
   "execution_count": 4,
   "metadata": {},
   "outputs": [
    {
     "data": {
      "text/plain": [
       "<sqlite3.Cursor at 0x17f298b4d50>"
      ]
     },
     "execution_count": 4,
     "metadata": {},
     "output_type": "execute_result"
    }
   ],
   "source": [
    "cursor=conn.cursor()\n",
    "cursor"
   ]
  },
  {
   "cell_type": "code",
   "execution_count": 5,
   "metadata": {},
   "outputs": [
    {
     "data": {
      "text/plain": [
       "[(1, '基隆市', '2022-02-16'),\n",
       " (2, '台北市', '2022-02-16'),\n",
       " (3, '新北市', '2022-02-16'),\n",
       " (4, '桃園縣', '2022-02-16'),\n",
       " (5, '新竹市', '2022-02-16'),\n",
       " (6, '新竹縣', '2022-02-16'),\n",
       " (7, '苗栗縣', '2022-02-16'),\n",
       " (8, '台中市', '2022-02-16'),\n",
       " (9, '彰化縣', '2022-02-16'),\n",
       " (10, '南投縣', '2022-02-16'),\n",
       " (11, '雲林縣', '2022-02-16'),\n",
       " (12, '嘉義市', '2022-02-16'),\n",
       " (13, '嘉義縣', '2022-02-16'),\n",
       " (14, '台南市', '2022-02-16'),\n",
       " (15, '高雄市', '2022-02-16'),\n",
       " (16, '屏東縣', '2022-02-16'),\n",
       " (17, '台東縣', '2022-02-16'),\n",
       " (18, '花蓮縣', '2022-02-16'),\n",
       " (19, '宜蘭縣', '2022-02-16'),\n",
       " (20, '澎湖縣', '2022-02-16'),\n",
       " (21, '金門縣', '2022-02-16'),\n",
       " (22, '連江縣', '2022-02-16')]"
      ]
     },
     "execution_count": 5,
     "metadata": {},
     "output_type": "execute_result"
    }
   ],
   "source": [
    "list(cursor.execute('select * from user_city'))"
   ]
  },
  {
   "cell_type": "code",
   "execution_count": 6,
   "metadata": {},
   "outputs": [],
   "source": [
    "conn.close()"
   ]
  },
  {
   "cell_type": "markdown",
   "metadata": {},
   "source": [
    "### 寫入城市"
   ]
  },
  {
   "cell_type": "code",
   "execution_count": 15,
   "metadata": {},
   "outputs": [],
   "source": [
    "citys=[(1, '基隆市'),\n",
    " (2, '台北市'),\n",
    " (3, '新北市'),\n",
    " (4, '桃園縣'),\n",
    " (5, '新竹市'),\n",
    " (6, '新竹縣'),\n",
    " (7, '苗栗縣'),\n",
    " (8, '台中市'),\n",
    " (9, '彰化縣'),\n",
    " (10, '南投縣'),\n",
    " (11, '雲林縣'),\n",
    " (12, '嘉義市'),\n",
    " (13, '嘉義縣'),\n",
    " (14, '台南市'),\n",
    " (15, '高雄市'),\n",
    " (16, '屏東縣'),\n",
    " (17, '台東縣'),\n",
    " (18, '花蓮縣'),\n",
    " (19, '宜蘭縣'),\n",
    " (20, '澎湖縣'),\n",
    " (21, '金門縣'),\n",
    " (22, '連江縣')]\n"
   ]
  },
  {
   "cell_type": "code",
   "execution_count": 8,
   "metadata": {},
   "outputs": [
    {
     "data": {
      "text/plain": [
       "(<sqlite3.Connection at 0x17f27b66b70>, <sqlite3.Cursor at 0x17f298b4810>)"
      ]
     },
     "execution_count": 8,
     "metadata": {},
     "output_type": "execute_result"
    }
   ],
   "source": [
    "conn=sqlite3.connect('../db.sqlite3')\n",
    "cursor=conn.cursor()\n",
    "\n",
    "conn,cursor"
   ]
  },
  {
   "cell_type": "code",
   "execution_count": 9,
   "metadata": {},
   "outputs": [
    {
     "data": {
      "text/plain": [
       "'2022-02-23'"
      ]
     },
     "execution_count": 9,
     "metadata": {},
     "output_type": "execute_result"
    }
   ],
   "source": [
    "today=datetime.today().strftime('%Y-%m-%d')\n",
    "today"
   ]
  },
  {
   "cell_type": "code",
   "execution_count": 10,
   "metadata": {},
   "outputs": [],
   "source": [
    "try:\n",
    "    for city in citys:    \n",
    "        sqlstr=f'insert into user_city (id,name,createdon) values ({city[0]},\"{city[1]}\",\"{today}\")'\n",
    "        cursor.execute(sqlstr)  \n",
    "    conn.commit()\n",
    "    print('done!')\n",
    "except:\n",
    "    pass\n"
   ]
  },
  {
   "cell_type": "code",
   "execution_count": 16,
   "metadata": {},
   "outputs": [],
   "source": [
    "respondents=['公司行號', '工作室', '學生身分', '上班族兼職']"
   ]
  },
  {
   "cell_type": "code",
   "execution_count": 12,
   "metadata": {},
   "outputs": [],
   "source": [
    "try:\n",
    "    for respondent in respondents:    \n",
    "        sqlstr=f'insert into user_respondent (name,createdon) values (\"{respondent}\",\"{today}\")'\n",
    "        cursor.execute(sqlstr)  \n",
    "    conn.commit()\n",
    "    print('done!')\n",
    "except:\n",
    "    pass\n",
    "    "
   ]
  },
  {
   "cell_type": "code",
   "execution_count": 17,
   "metadata": {},
   "outputs": [],
   "source": [
    "states=['新進案','發案中','製作中','已結案']"
   ]
  },
  {
   "cell_type": "code",
   "execution_count": 14,
   "metadata": {},
   "outputs": [
    {
     "name": "stdout",
     "output_type": "stream",
     "text": [
      "UNIQUE constraint failed: case_state.name\n"
     ]
    }
   ],
   "source": [
    "try:\n",
    "    for state in states:    \n",
    "        sqlstr=f'insert into case_state (name,createdon) values (\"{state}\",\"{today}\")'\n",
    "        cursor.execute(sqlstr)  \n",
    "    conn.commit()\n",
    "    print('done!')\n",
    "except Exception as e:\n",
    "    print(e)"
   ]
  },
  {
   "cell_type": "code",
   "execution_count": 10,
   "metadata": {},
   "outputs": [],
   "source": [
    "amounts=['3000','5000','10000~30000','50000','10萬','30萬','50萬~100萬','100萬以上','面議']"
   ]
  },
  {
   "cell_type": "code",
   "execution_count": 16,
   "metadata": {},
   "outputs": [
    {
     "name": "stdout",
     "output_type": "stream",
     "text": [
      "UNIQUE constraint failed: case_amount.name\n"
     ]
    }
   ],
   "source": [
    "try:\n",
    "    for amount in amounts:    \n",
    "        sqlstr=f'insert into case_amount (name,createdon) values (\"{amount}\",\"{today}\")'\n",
    "        cursor.execute(sqlstr)  \n",
    "    conn.commit()\n",
    "    print('done!')\n",
    "except Exception as e:\n",
    "    print(e)"
   ]
  },
  {
   "cell_type": "code",
   "execution_count": 18,
   "metadata": {},
   "outputs": [],
   "source": [
    "periods=['3天內','一個禮拜','二~四個禮拜','一個月內','三個月','半年','一年以上','面議']"
   ]
  },
  {
   "cell_type": "code",
   "execution_count": 18,
   "metadata": {},
   "outputs": [
    {
     "name": "stdout",
     "output_type": "stream",
     "text": [
      "UNIQUE constraint failed: case_period.name\n"
     ]
    }
   ],
   "source": [
    "try:\n",
    "    for period in periods:    \n",
    "        sqlstr=f'insert into case_period (name,createdon) values (\"{period}\",\"{today}\")'\n",
    "        cursor.execute(sqlstr)  \n",
    "    conn.commit()\n",
    "    print('done!')\n",
    "except Exception as e:\n",
    "    print(e)"
   ]
  },
  {
   "cell_type": "code",
   "execution_count": 19,
   "metadata": {},
   "outputs": [],
   "source": [
    "categorys=['程式開發',\n",
    " '平面設計',\n",
    " '網頁設計',\n",
    " '翻譯寫作',\n",
    " '商攝娛樂',\n",
    " '影像製作',\n",
    " '空間設計',\n",
    " '生活服務',\n",
    " '活動企劃',\n",
    " '專業顧問',\n",
    " '資訊工程']\n"
   ]
  },
  {
   "cell_type": "code",
   "execution_count": 20,
   "metadata": {},
   "outputs": [
    {
     "name": "stdout",
     "output_type": "stream",
     "text": [
      "UNIQUE constraint failed: case_category.name\n"
     ]
    }
   ],
   "source": [
    "try:\n",
    "    for category in categorys:    \n",
    "        sqlstr=f'insert into case_category (name,createdon) values (\"{category}\",\"{today}\")'\n",
    "        cursor.execute(sqlstr)  \n",
    "    conn.commit()\n",
    "    print('done!')\n",
    "except Exception as e:\n",
    "    print(e)"
   ]
  },
  {
   "cell_type": "code",
   "execution_count": 20,
   "metadata": {},
   "outputs": [],
   "source": [
    "\n",
    "modes=['到場配合','遠端合作','面談']"
   ]
  },
  {
   "cell_type": "code",
   "execution_count": 22,
   "metadata": {},
   "outputs": [
    {
     "name": "stdout",
     "output_type": "stream",
     "text": [
      "UNIQUE constraint failed: case_mode.name\n"
     ]
    }
   ],
   "source": [
    "try:\n",
    "    for mode in modes:    \n",
    "        sqlstr=f'insert into case_mode (name,createdon) values (\"{mode}\",\"{today}\")'\n",
    "        cursor.execute(sqlstr)  \n",
    "    conn.commit()\n",
    "    print('done!')\n",
    "except Exception as e:\n",
    "    print(e)"
   ]
  },
  {
   "cell_type": "code",
   "execution_count": 24,
   "metadata": {},
   "outputs": [],
   "source": [
    "conn.close()"
   ]
  },
  {
   "cell_type": "markdown",
   "metadata": {},
   "source": [
    "### 寫入專案"
   ]
  },
  {
   "cell_type": "code",
   "execution_count": 1,
   "metadata": {},
   "outputs": [
    {
     "data": {
      "text/html": [
       "<div>\n",
       "<style scoped>\n",
       "    .dataframe tbody tr th:only-of-type {\n",
       "        vertical-align: middle;\n",
       "    }\n",
       "\n",
       "    .dataframe tbody tr th {\n",
       "        vertical-align: top;\n",
       "    }\n",
       "\n",
       "    .dataframe thead th {\n",
       "        text-align: right;\n",
       "    }\n",
       "</style>\n",
       "<table border=\"1\" class=\"dataframe\">\n",
       "  <thead>\n",
       "    <tr style=\"text-align: right;\">\n",
       "      <th></th>\n",
       "      <th>link</th>\n",
       "      <th>title</th>\n",
       "      <th>price</th>\n",
       "      <th>city</th>\n",
       "      <th>detail</th>\n",
       "    </tr>\n",
       "  </thead>\n",
       "  <tbody>\n",
       "    <tr>\n",
       "      <th>0</th>\n",
       "      <td>https://www.tasker.com.tw/case/detail/3mY8n</td>\n",
       "      <td>NodeMCU&amp;QR CODE模組門禁鎖</td>\n",
       "      <td>5,001~1萬</td>\n",
       "      <td>台中市</td>\n",
       "      <td>1.案件說明：NodeMCU 連接QRCODE 模組（Bar Code&amp;QR Code)使用...</td>\n",
       "    </tr>\n",
       "    <tr>\n",
       "      <th>1</th>\n",
       "      <td>https://www.tasker.com.tw/case/detail/J9aZK</td>\n",
       "      <td>系統工程師</td>\n",
       "      <td>1萬~5萬</td>\n",
       "      <td>不限</td>\n",
       "      <td>1.案件說明：徵求系統工程師，需能在IOS、Android系統應用，協助日後維護管理\\n2....</td>\n",
       "    </tr>\n",
       "    <tr>\n",
       "      <th>2</th>\n",
       "      <td>https://www.tasker.com.tw/case/detail/54Yz5</td>\n",
       "      <td>SNS APP開發</td>\n",
       "      <td>10萬~30萬</td>\n",
       "      <td>不限</td>\n",
       "      <td>1.案件說明：獨立開發SNS APP，協助上線在IOS、Android系統應用，長期配合協助...</td>\n",
       "    </tr>\n",
       "    <tr>\n",
       "      <th>3</th>\n",
       "      <td>https://www.tasker.com.tw/case/detail/qbLMX</td>\n",
       "      <td>安卓音訊處理APP</td>\n",
       "      <td>1萬~5萬</td>\n",
       "      <td>不限</td>\n",
       "      <td>1.案件說明：協助安卓音訊處理APP，詳細參考附件\\n2.注意事項：具備相關能力或實務經驗，...</td>\n",
       "    </tr>\n",
       "    <tr>\n",
       "      <th>4</th>\n",
       "      <td>https://www.tasker.com.tw/case/detail/b1qeB</td>\n",
       "      <td>Access 資料庫</td>\n",
       "      <td>$3,000</td>\n",
       "      <td>不限</td>\n",
       "      <td>1.案件說明：協助基本Access 資料庫檔案一件，已完成部份\\n2.注意事項：需要12／1...</td>\n",
       "    </tr>\n",
       "    <tr>\n",
       "      <th>...</th>\n",
       "      <td>...</td>\n",
       "      <td>...</td>\n",
       "      <td>...</td>\n",
       "      <td>...</td>\n",
       "      <td>...</td>\n",
       "    </tr>\n",
       "    <tr>\n",
       "      <th>593</th>\n",
       "      <td>https://www.tasker.com.tw/case/detail/r4YPp</td>\n",
       "      <td>testflight上架</td>\n",
       "      <td>5,001~1萬</td>\n",
       "      <td>不限</td>\n",
       "      <td>1.案件說明：我有多個IOS APP應用要上testflight外測，要能穩定長期不封號\\n...</td>\n",
       "    </tr>\n",
       "    <tr>\n",
       "      <th>594</th>\n",
       "      <td>https://www.tasker.com.tw/case/detail/Y92OZ</td>\n",
       "      <td>藍芽MCU開發</td>\n",
       "      <td>1萬~5萬</td>\n",
       "      <td>不限</td>\n",
       "      <td>1.案件說明：協助藍芽ＭＣＵ開發（新唐）設計， PCB電路layout，（本部地區）合適採取...</td>\n",
       "    </tr>\n",
       "    <tr>\n",
       "      <th>595</th>\n",
       "      <td>https://www.tasker.com.tw/case/detail/Y927K</td>\n",
       "      <td>EXCEL VBA 撰寫</td>\n",
       "      <td>$1,500</td>\n",
       "      <td>不限</td>\n",
       "      <td>1.案件說明：我想要請人代寫一本書 [看財報不抓狂] 中的EXCEL VBA 內容，書中都有...</td>\n",
       "    </tr>\n",
       "    <tr>\n",
       "      <th>596</th>\n",
       "      <td>https://www.tasker.com.tw/case/detail/63rmb</td>\n",
       "      <td>outlook excel</td>\n",
       "      <td>5千以下</td>\n",
       "      <td>台北市</td>\n",
       "      <td>1.案件說明：協助對方回覆之OUTLOOK信件內容中擷取特定內容至Excel指定欄位中\\n2...</td>\n",
       "    </tr>\n",
       "    <tr>\n",
       "      <th>597</th>\n",
       "      <td>https://www.tasker.com.tw/case/detail/mJvrX</td>\n",
       "      <td>票券系統功能新增與維護</td>\n",
       "      <td>1萬~5萬</td>\n",
       "      <td>不限</td>\n",
       "      <td>1.案件說明：開發與維護平台，包含會員、票券系統\\n2.配合時間：長期\\n3.配合地點：可在...</td>\n",
       "    </tr>\n",
       "  </tbody>\n",
       "</table>\n",
       "<p>598 rows × 5 columns</p>\n",
       "</div>"
      ],
      "text/plain": [
       "                                            link                 title  \\\n",
       "0    https://www.tasker.com.tw/case/detail/3mY8n  NodeMCU&QR CODE模組門禁鎖   \n",
       "1    https://www.tasker.com.tw/case/detail/J9aZK                 系統工程師   \n",
       "2    https://www.tasker.com.tw/case/detail/54Yz5             SNS APP開發   \n",
       "3    https://www.tasker.com.tw/case/detail/qbLMX             安卓音訊處理APP   \n",
       "4    https://www.tasker.com.tw/case/detail/b1qeB            Access 資料庫   \n",
       "..                                           ...                   ...   \n",
       "593  https://www.tasker.com.tw/case/detail/r4YPp          testflight上架   \n",
       "594  https://www.tasker.com.tw/case/detail/Y92OZ               藍芽MCU開發   \n",
       "595  https://www.tasker.com.tw/case/detail/Y927K          EXCEL VBA 撰寫   \n",
       "596  https://www.tasker.com.tw/case/detail/63rmb         outlook excel   \n",
       "597  https://www.tasker.com.tw/case/detail/mJvrX           票券系統功能新增與維護   \n",
       "\n",
       "        price city                                             detail  \n",
       "0    5,001~1萬  台中市  1.案件說明：NodeMCU 連接QRCODE 模組（Bar Code&QR Code)使用...  \n",
       "1       1萬~5萬   不限  1.案件說明：徵求系統工程師，需能在IOS、Android系統應用，協助日後維護管理\\n2....  \n",
       "2     10萬~30萬   不限  1.案件說明：獨立開發SNS APP，協助上線在IOS、Android系統應用，長期配合協助...  \n",
       "3       1萬~5萬   不限  1.案件說明：協助安卓音訊處理APP，詳細參考附件\\n2.注意事項：具備相關能力或實務經驗，...  \n",
       "4      $3,000   不限  1.案件說明：協助基本Access 資料庫檔案一件，已完成部份\\n2.注意事項：需要12／1...  \n",
       "..        ...  ...                                                ...  \n",
       "593  5,001~1萬   不限  1.案件說明：我有多個IOS APP應用要上testflight外測，要能穩定長期不封號\\n...  \n",
       "594     1萬~5萬   不限  1.案件說明：協助藍芽ＭＣＵ開發（新唐）設計， PCB電路layout，（本部地區）合適採取...  \n",
       "595    $1,500   不限  1.案件說明：我想要請人代寫一本書 [看財報不抓狂] 中的EXCEL VBA 內容，書中都有...  \n",
       "596      5千以下  台北市  1.案件說明：協助對方回覆之OUTLOOK信件內容中擷取特定內容至Excel指定欄位中\\n2...  \n",
       "597     1萬~5萬   不限  1.案件說明：開發與維護平台，包含會員、票券系統\\n2.配合時間：長期\\n3.配合地點：可在...  \n",
       "\n",
       "[598 rows x 5 columns]"
      ]
     },
     "execution_count": 1,
     "metadata": {},
     "output_type": "execute_result"
    }
   ],
   "source": [
    "import pandas as pd\n",
    "df=pd.read_csv('./程式開發.csv',index_col=0)\n",
    "df"
   ]
  },
  {
   "cell_type": "code",
   "execution_count": 2,
   "metadata": {},
   "outputs": [
    {
     "data": {
      "text/plain": [
       "598"
      ]
     },
     "execution_count": 2,
     "metadata": {},
     "output_type": "execute_result"
    }
   ],
   "source": [
    "len(df)"
   ]
  },
  {
   "cell_type": "code",
   "execution_count": 5,
   "metadata": {},
   "outputs": [
    {
     "data": {
      "text/plain": [
       "[(3,\n",
       "  'Test1',\n",
       "  '',\n",
       "  '0912345678',\n",
       "  '',\n",
       "  '2022-02-18 16:25:44.909223',\n",
       "  1,\n",
       "  3,\n",
       "  5,\n",
       "  1,\n",
       "  3,\n",
       "  1,\n",
       "  '2022-02-25 20:57:55.028214'),\n",
       " (6,\n",
       "  'test111',\n",
       "  '2oufhoiewh',\n",
       "  '0987654321',\n",
       "  '',\n",
       "  '2022-02-24 18:21:41.507006',\n",
       "  4,\n",
       "  9,\n",
       "  6,\n",
       "  6,\n",
       "  8,\n",
       "  2,\n",
       "  '2022-02-25 20:57:55.028214'),\n",
       " (7,\n",
       "  'Gary_test1',\n",
       "  'superuser first test',\n",
       "  '0912345678',\n",
       "  'superuser\\r\\nfirst\\r\\ntest',\n",
       "  '2022-02-25 22:33:11.810780',\n",
       "  0,\n",
       "  4,\n",
       "  3,\n",
       "  1,\n",
       "  5,\n",
       "  1,\n",
       "  '2022-02-25 22:33:11.810780'),\n",
       " (9,\n",
       "  'Test333 update test1',\n",
       "  'normal user third test',\n",
       "  '0987654321',\n",
       "  'ooooo\\r\\n11111\\r\\ndakflkjaf\\r\\n124iorjwml;ms',\n",
       "  '2022-02-25 23:06:45.761926',\n",
       "  9,\n",
       "  2,\n",
       "  7,\n",
       "  6,\n",
       "  2,\n",
       "  3,\n",
       "  '2022-02-25 23:12:34')]"
      ]
     },
     "execution_count": 5,
     "metadata": {},
     "output_type": "execute_result"
    }
   ],
   "source": [
    "conn=sqlite3.connect('../db.sqlite3')\n",
    "cursor=conn.cursor()\n",
    "cases=list(cursor.execute('select * from case_case'))\n",
    "cases"
   ]
  },
  {
   "cell_type": "markdown",
   "metadata": {},
   "source": [
    "### 取得最後編號"
   ]
  },
  {
   "cell_type": "code",
   "execution_count": 6,
   "metadata": {},
   "outputs": [
    {
     "data": {
      "text/plain": [
       "9"
      ]
     },
     "execution_count": 6,
     "metadata": {},
     "output_type": "execute_result"
    }
   ],
   "source": [
    "no= cases[-1][0] if len(cases) > 0 else 1\n",
    "no"
   ]
  },
  {
   "cell_type": "code",
   "execution_count": 7,
   "metadata": {},
   "outputs": [
    {
     "data": {
      "text/plain": [
       "'insert into case_case values({},\"{}\",\"{}\",\"{}\",\"{}\",\"{}\",    {},{},{},{},{},{},\"{}\"'"
      ]
     },
     "execution_count": 7,
     "metadata": {},
     "output_type": "execute_result"
    }
   ],
   "source": [
    "sql_str='insert into case_case values({},\"{}\",\"{}\",\"{}\",\"{}\",\"{}\",\\\n",
    "    {},{},{},{},{},{},\"{}\"'\n",
    "sql_str"
   ]
  },
  {
   "cell_type": "code",
   "execution_count": 8,
   "metadata": {},
   "outputs": [
    {
     "data": {
      "text/plain": [
       "['https://www.tasker.com.tw/case/detail/3mY8n',\n",
       " 'NodeMCU&QR CODE模組門禁鎖',\n",
       " '5,001~1萬',\n",
       " '台中市',\n",
       " '1.案件說明：NodeMCU 連接QRCODE 模組（Bar Code&QR Code)使用Arduino IDE撰寫，把模組掃到條碼資料顯示在Arduino IDE的監控視窗。\\n2.注意事項：具備相關能力或實務經驗，其他細節詳談']"
      ]
     },
     "execution_count": 8,
     "metadata": {},
     "output_type": "execute_result"
    }
   ],
   "source": [
    "data=df.values.tolist()[0]\n",
    "data"
   ]
  },
  {
   "cell_type": "code",
   "execution_count": 11,
   "metadata": {},
   "outputs": [
    {
     "data": {
      "text/plain": [
       "8"
      ]
     },
     "execution_count": 11,
     "metadata": {},
     "output_type": "execute_result"
    }
   ],
   "source": [
    "import random\n",
    "random.randint(1,len(amounts))"
   ]
  },
  {
   "cell_type": "markdown",
   "metadata": {},
   "source": [
    "### 取得users id"
   ]
  },
  {
   "cell_type": "code",
   "execution_count": 12,
   "metadata": {},
   "outputs": [
    {
     "data": {
      "text/plain": [
       "[(1,\n",
       "  'pbkdf2_sha256$320000$1uZKWI64cV3dHQo4CrdNdm$vVuUlQrUTJNPq0OHU25FE30p5pgp+rCKxyxqcZ/3bV4=',\n",
       "  '2022-02-26 22:01:21.253266',\n",
       "  1,\n",
       "  'Gary',\n",
       "  '',\n",
       "  '',\n",
       "  1,\n",
       "  1,\n",
       "  '2022-01-24 13:56:00',\n",
       "  1000,\n",
       "  1,\n",
       "  3,\n",
       "  3,\n",
       "  'icenio5454@gmail.com'),\n",
       " (6,\n",
       "  'pbkdf2_sha256$320000$k4tFcrrEHLQwZAdPtOnLZv$ECGS7F4+UWPoyCV2/0XrKp1JWFJZUTDFN9PfHjNMCfo=',\n",
       "  '2022-02-25 22:33:24.594939',\n",
       "  0,\n",
       "  'Test123',\n",
       "  '',\n",
       "  '',\n",
       "  0,\n",
       "  1,\n",
       "  '2022-02-18 22:21:52.702696',\n",
       "  0,\n",
       "  0,\n",
       "  15,\n",
       "  1,\n",
       "  'Test123@yahoo.com.tw'),\n",
       " (8,\n",
       "  'pbkdf2_sha256$320000$iw1EaLAbOZWSBg9QWbXAiU$+XXDWjBIwse8+xRbWBshMpg3nXvilv92DU7Voxv3YKc=',\n",
       "  '2022-02-26 22:04:48.489669',\n",
       "  0,\n",
       "  'Harry',\n",
       "  '',\n",
       "  '',\n",
       "  0,\n",
       "  1,\n",
       "  '2022-02-26 22:04:47.704211',\n",
       "  0,\n",
       "  0,\n",
       "  1,\n",
       "  3,\n",
       "  'Harry@gmail.com'),\n",
       " (9,\n",
       "  'pbkdf2_sha256$320000$AVne2FBMdbdel5AggRQRAB$sKiXIEkL1Hc1S34QkwlYB/V1Vs7HD3NGQIlUzWFAQmM=',\n",
       "  '2022-02-26 22:05:19.197215',\n",
       "  0,\n",
       "  'Nick',\n",
       "  '',\n",
       "  '',\n",
       "  0,\n",
       "  1,\n",
       "  '2022-02-26 22:05:18.541955',\n",
       "  0,\n",
       "  0,\n",
       "  2,\n",
       "  1,\n",
       "  'Nick@gmail.com'),\n",
       " (10,\n",
       "  'pbkdf2_sha256$320000$TZoztciN7ZkRJLtyKPqUF7$8JHU51tQy+8HquUwcDzGcytHZ7b1Qt3JTTQ+WmrL2+s=',\n",
       "  '2022-02-26 22:05:49.620830',\n",
       "  0,\n",
       "  'James',\n",
       "  '',\n",
       "  '',\n",
       "  0,\n",
       "  1,\n",
       "  '2022-02-26 22:05:48.879682',\n",
       "  0,\n",
       "  0,\n",
       "  4,\n",
       "  4,\n",
       "  'James@gmail.com'),\n",
       " (11,\n",
       "  'pbkdf2_sha256$320000$V1qwEWUeN2kDN1ibIRGN4y$omcFiMNMEitqNAzbsRkHsUkK9nrJR86oPhFZllUCt5A=',\n",
       "  '2022-02-26 22:06:28.586301',\n",
       "  0,\n",
       "  'Wendy',\n",
       "  '',\n",
       "  '',\n",
       "  0,\n",
       "  1,\n",
       "  '2022-02-26 22:06:27.817896',\n",
       "  0,\n",
       "  0,\n",
       "  7,\n",
       "  2,\n",
       "  'Wendy@gmail.com'),\n",
       " (12,\n",
       "  'pbkdf2_sha256$320000$OMF3QRNG1h4XQTNcT9V45T$wAwx30NsylN7Avc861vPUbpz8sCPbCgYtRR2RDL1iqw=',\n",
       "  '2022-02-26 22:07:17.229937',\n",
       "  0,\n",
       "  'Mary',\n",
       "  '',\n",
       "  '',\n",
       "  0,\n",
       "  1,\n",
       "  '2022-02-26 22:07:16.386847',\n",
       "  0,\n",
       "  0,\n",
       "  15,\n",
       "  3,\n",
       "  'Mary@gmail.com'),\n",
       " (13,\n",
       "  'pbkdf2_sha256$320000$T9gwrzalOyuIh8uB6t5MLK$KfS2ooCyP0BB+OtVWoNCI6i8GNTVoemkK3vCUu/WVCE=',\n",
       "  '2022-02-26 22:07:57.604159',\n",
       "  0,\n",
       "  'John',\n",
       "  '',\n",
       "  '',\n",
       "  0,\n",
       "  1,\n",
       "  '2022-02-26 22:07:56.858133',\n",
       "  0,\n",
       "  0,\n",
       "  20,\n",
       "  4,\n",
       "  'John@gmail.com')]"
      ]
     },
     "execution_count": 12,
     "metadata": {},
     "output_type": "execute_result"
    }
   ],
   "source": [
    "users=list(cursor.execute('select * from user_profile'))\n",
    "users"
   ]
  },
  {
   "cell_type": "code",
   "execution_count": 13,
   "metadata": {},
   "outputs": [
    {
     "data": {
      "text/plain": [
       "[1, 6, 8, 9, 10, 11, 12, 13]"
      ]
     },
     "execution_count": 13,
     "metadata": {},
     "output_type": "execute_result"
    }
   ],
   "source": [
    "user_ids=[user[0] for user in users]\n",
    "user_ids"
   ]
  },
  {
   "cell_type": "code",
   "execution_count": 21,
   "metadata": {},
   "outputs": [
    {
     "data": {
      "text/plain": [
       "'insert into case_case values(10,\"NodeMCU&QR CODE模組門禁鎖\",\"1.案件說明：NodeMCU 連接QRCODE 模組（Bar Code&QR Code)使用Arduino IDE撰寫，把模組掃到條碼資料顯示在Arduino IDE的監控視窗。\\n2.注意事項：具備相關能力或實務經驗，其他細節詳談\",\"0987578587\",\"\",\"2022-02-26 22:16:40\",    0,7,5,13,1,3,\"2022-02-26 22:16:40\"'"
      ]
     },
     "execution_count": 21,
     "metadata": {},
     "output_type": "execute_result"
    }
   ],
   "source": [
    "sql_str.format(no+1,data[1],data[4],'0987578587','',datetime.now().strftime(\"%Y-%m-%d %H:%M:%S\"),\n",
    "0,random.randint(1,len(amounts)),random.randint(1,len(categorys)),random.choice(user_ids),\n",
    "random.randint(1,len(periods)),random.randint(1,len(states)),datetime.now().strftime(\"%Y-%m-%d %H:%M:%S\"))"
   ]
  },
  {
   "cell_type": "code",
   "execution_count": 22,
   "metadata": {},
   "outputs": [
    {
     "data": {
      "text/plain": [
       "1"
      ]
     },
     "execution_count": 22,
     "metadata": {},
     "output_type": "execute_result"
    }
   ],
   "source": [
    "random.choice(user_ids)"
   ]
  },
  {
   "cell_type": "code",
   "execution_count": 23,
   "metadata": {},
   "outputs": [],
   "source": [
    "cursor.execute('delete from case_case')\n",
    "conn.commit()"
   ]
  },
  {
   "cell_type": "code",
   "execution_count": 26,
   "metadata": {},
   "outputs": [
    {
     "name": "stdout",
     "output_type": "stream",
     "text": [
      "near \"有可能\": syntax error 35\n",
      "near \"智能手錶\": syntax error 89\n",
      "near \"台灣加權指數\": syntax error 148\n",
      "near \"功能達成\": syntax error 251\n",
      "near \"已交貨付款\": syntax error 348\n",
      "near \"貸款利潤\": syntax error 370\n",
      "near \"對造\": syntax error 415\n",
      "near \"正在偵測過高滑點\": syntax error 445\n"
     ]
    }
   ],
   "source": [
    "\n",
    "for i,data in enumerate(df.values.tolist()):              \n",
    "        try:   \n",
    "                no+=1\n",
    "                sql_str='insert into case_case values({},\"{}\",\"{}\",\"{}\",\"{}\",\"{}\",\\\n",
    "                {},{},{},{},{},{},\"{}\");'\n",
    "                sql_str=sql_str.format(no,data[1],data[4],'0987578587','',datetime.now().strftime(\"%Y-%m-%d %H:%M:%S\"),\n",
    "                        0,random.randint(1,len(amounts)),random.randint(1,len(categorys)),random.choice(user_ids),\n",
    "                        random.randint(1,len(periods)),random.randint(1,len(states)),datetime.now().strftime(\"%Y-%m-%d %H:%M:%S\"))\n",
    "\n",
    "                \n",
    "                cursor.execute(sql_str)\n",
    "\n",
    "        except Exception as e:\n",
    "                print(e,i)\n",
    "\n",
    "conn.commit()"
   ]
  },
  {
   "cell_type": "code",
   "execution_count": null,
   "metadata": {},
   "outputs": [],
   "source": []
  }
 ],
 "metadata": {
  "interpreter": {
   "hash": "b3ba2566441a7c06988d0923437866b63cedc61552a5af99d1f4fb67d367b25f"
  },
  "kernelspec": {
   "display_name": "Python 3.8.8 64-bit ('base': conda)",
   "language": "python",
   "name": "python3"
  },
  "language_info": {
   "codemirror_mode": {
    "name": "ipython",
    "version": 3
   },
   "file_extension": ".py",
   "mimetype": "text/x-python",
   "name": "python",
   "nbconvert_exporter": "python",
   "pygments_lexer": "ipython3",
   "version": "3.8.8"
  },
  "orig_nbformat": 4
 },
 "nbformat": 4,
 "nbformat_minor": 2
}
